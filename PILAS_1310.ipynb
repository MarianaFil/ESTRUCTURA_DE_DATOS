{
  "nbformat": 4,
  "nbformat_minor": 0,
  "metadata": {
    "colab": {
      "name": "PILAS_1310.ipynb",
      "provenance": []
    },
    "kernelspec": {
      "name": "python3",
      "display_name": "Python 3"
    },
    "language_info": {
      "name": "python"
    }
  },
  "cells": [
    {
      "cell_type": "markdown",
      "metadata": {
        "id": "VDULXI5zNIgU"
      },
      "source": [
        "stack -->constructor\n",
        "lenght --> \n",
        "is_empty\n",
        "\n",
        "-pop --> saca un elemento de la lista"
      ]
    },
    {
      "cell_type": "code",
      "metadata": {
        "id": "UqupmiL87JLq"
      },
      "source": [
        "class StackADT:\n",
        "  def __init__(self):\n",
        "    self.__data = list()\n",
        "\n",
        "\n",
        "#regresa true si la lista esta vacía\n",
        "  def is_empty (self):\n",
        "    return len ( self.__data ) == 0\n",
        "\n",
        "  def get_length ( self):\n",
        "    return len ( self.__data )\n",
        "\n",
        "  def pop (self ):\n",
        "    if self.is_empty():\n",
        "      print ( \"nada que sacar\" )\n",
        "    else:\n",
        "      return self.__data.pop()\n",
        "\n",
        "  def peek (self ):\n",
        "    if self.is_empty():\n",
        "      print ( \"pila vacia, nada que sacar\" )\n",
        "    else:\n",
        "      return self.__data [ -1 ]\n",
        "\n",
        "  def push ( self, valor ):\n",
        "    self.__data.append( valor )\n",
        "\n",
        "  def to_string ( self, ):\n",
        "    for item in self.__data [: : -1]:\n",
        "      print ( f\" | { item } | \" )"
      ],
      "execution_count": 3,
      "outputs": []
    },
    {
      "cell_type": "code",
      "metadata": {
        "colab": {
          "base_uri": "https://localhost:8080/"
        },
        "id": "svDXFncJNHZS",
        "outputId": "be6252bf-4ab4-4d1d-8b7c-79fd2ea31177"
      },
      "source": [
        "pila = StackADT()\n",
        "print(\"Esta vacia? =\" , pila.is_empty() )\n",
        "print(\"# elementos:\" , pila.get_length() )\n",
        "pila.push(10)\n",
        "print(\"Esta vacia? =\" , pila.is_empty() )\n",
        "print(\"# elementos:\" , pila.get_length() )\n",
        "pila.push (20)\n",
        "pila.push(30)\n",
        "pila.push(40)\n",
        "pila.to_string()\n",
        "print ( pila.pop() ) #40\n",
        "\n",
        "\n",
        "\n"
      ],
      "execution_count": 4,
      "outputs": [
        {
          "output_type": "stream",
          "name": "stdout",
          "text": [
            "Esta vacia? = True\n",
            "# elementos: 0\n",
            "Esta vacia? = False\n",
            "# elementos: 1\n",
            " | 40 | \n",
            " | 30 | \n",
            " | 20 | \n",
            " | 10 | \n",
            "40\n"
          ]
        }
      ]
    },
    {
      "cell_type": "code",
      "metadata": {
        "colab": {
          "base_uri": "https://localhost:8080/"
        },
        "id": "Vl1fRsrJk0dT",
        "outputId": "c7cf8778-dd4b-4e59-b93d-da757ef05ecf"
      },
      "source": [
        "!cat prog.txt"
      ],
      "execution_count": 5,
      "outputs": [
        {
          "output_type": "stream",
          "name": "stdout",
          "text": [
            "#include <stdio.h>\r\n",
            "int main()\r\n",
            "{\r\n",
            "    int num, count, sum = 0;\r\n",
            "\r\n",
            "    printf(\"Enter a positive integer: \");\r\n",
            "    scanf(\"%d\", &num);\r\n",
            "\r\n",
            "    // for loop terminates when num is less than count\r\n",
            "    for(count = 1; count <= num; ++count)\r\n",
            "    {\r\n",
            "        sum += count;\r\n",
            "    }\r\n",
            "\r\n",
            "    printf(\"Sum = %d\", sum);\r\n",
            "\r\n",
            "    return 0;\r\n",
            "}"
          ]
        }
      ]
    },
    {
      "cell_type": "code",
      "metadata": {
        "colab": {
          "base_uri": "https://localhost:8080/"
        },
        "id": "NqJW_rQ8n6eI",
        "outputId": "55554052-2af2-460b-b5a4-0ce99ac76213"
      },
      "source": [
        "entrada = open('prog.txt', 'rt')\n",
        "codigo = entrada.read()\n",
        "#print(codigo)\n",
        "pilaControl = StackADT()\n",
        "pilaControl.push(\"#\") # caracter de pila vacia\n",
        "# recorrer desde el 1er elemento hasta el ultimo\n",
        "\n",
        "for letra in codigo:\n",
        "   #print(f\"---> {letra} <---\")\n",
        "    if letra == '{': # relga 1\n",
        "       pilaControl.push(\"{\") \n",
        "    elif letra == \"}\": # regla 2\n",
        "        basura = pilaControl.pop()\n",
        "    else:\n",
        "        pass\n",
        "# NOTA: Este codigo aun no contempla desbalanceo, desbalanceo de mas llaves de cierre\n",
        "if pilaControl.peek() == '#':\n",
        "    print(\"El codigo proporcionado esta correctamente balanceado\")\n",
        "else:\n",
        "    print(\"El codigo no esta balanceado en llaves { y }\")"
      ],
      "execution_count": 14,
      "outputs": [
        {
          "output_type": "stream",
          "name": "stdout",
          "text": [
            "El codigo proporcionado esta correctamente balanceado\n"
          ]
        }
      ]
    },
    {
      "cell_type": "markdown",
      "metadata": {
        "id": "_3qrh0SZpxYO"
      },
      "source": [
        "#aplicacion de pilas\n",
        "Estrategia de diseño de algoritmos BACKTRACKING\n"
      ]
    },
    {
      "cell_type": "code",
      "metadata": {
        "id": "uh0N8csVpv0J"
      },
      "source": [
        "\n",
        "\n",
        "\n",
        "\n",
        "\n",
        "\n",
        "\n",
        "\n",
        "\n",
        "\n",
        "\n",
        "\n"
      ],
      "execution_count": null,
      "outputs": []
    }
  ]
}