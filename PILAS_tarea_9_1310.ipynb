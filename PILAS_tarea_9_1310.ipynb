{
  "nbformat": 4,
  "nbformat_minor": 0,
  "metadata": {
    "colab": {
      "name": "PILAS_tarea_9_1310.ipynb",
      "provenance": []
    },
    "kernelspec": {
      "name": "python3",
      "display_name": "Python 3"
    },
    "language_info": {
      "name": "python"
    }
  },
  "cells": [
    {
      "cell_type": "markdown",
      "metadata": {
        "id": "VDULXI5zNIgU"
      },
      "source": [
        "stack -->constructor\n",
        "lenght --> \n",
        "is_empty\n",
        "\n",
        "-pop --> saca un elemento de la lista"
      ]
    },
    {
      "cell_type": "code",
      "metadata": {
        "id": "UqupmiL87JLq"
      },
      "source": [
        "class StackADT:\n",
        "  def __init__(self):\n",
        "    self.__data = list()\n",
        "\n",
        "\n",
        "#regresa true si la lista esta vacía\n",
        "  def is_empty (self):\n",
        "    return len ( self.__data ) == 0\n",
        "\n",
        "  def get_length ( self):\n",
        "    return len ( self.__data )\n",
        "\n",
        "  def pop (self ):\n",
        "    if self.is_empty():\n",
        "      print ( \"nada que sacar\" )\n",
        "    else:\n",
        "      return self.__data.pop()\n",
        "\n",
        "  def peek (self ):\n",
        "    if self.is_empty():\n",
        "      print ( \"pila vacia, nada que sacar\" )\n",
        "    else:\n",
        "      return self.__data [ -1 ]\n",
        "\n",
        "  def push ( self, valor ):\n",
        "    self.__data.append( valor )\n",
        "\n",
        "  def to_string ( self, ):\n",
        "    for item in self.__data [: : -1]:\n",
        "      print ( f\" | { item } | \" )"
      ],
      "execution_count": 1,
      "outputs": []
    },
    {
      "cell_type": "code",
      "metadata": {
        "colab": {
          "base_uri": "https://localhost:8080/"
        },
        "id": "svDXFncJNHZS",
        "outputId": "9095f5a7-75a1-422a-aa25-3b76fe8bfdcb"
      },
      "source": [
        "pila = StackADT()\n",
        "print(\"Esta vacia? =\" , pila.is_empty() )\n",
        "print(\"# elementos:\" , pila.get_length() )\n",
        "pila.push(10)\n",
        "print(\"Esta vacia? =\" , pila.is_empty() )\n",
        "print(\"# elementos:\" , pila.get_length() )\n",
        "pila.push (20)\n",
        "pila.push(30)\n",
        "pila.push(40)\n",
        "pila.to_string()\n",
        "print ( pila.pop() ) #40\n",
        "print(pila.peek())\n",
        "pila.to_string()\n",
        "\n",
        "\n"
      ],
      "execution_count": 2,
      "outputs": [
        {
          "output_type": "stream",
          "name": "stdout",
          "text": [
            "Esta vacia? = True\n",
            "# elementos: 0\n",
            "Esta vacia? = False\n",
            "# elementos: 1\n",
            " | 40 | \n",
            " | 30 | \n",
            " | 20 | \n",
            " | 10 | \n",
            "40\n",
            "30\n",
            " | 30 | \n",
            " | 20 | \n",
            " | 10 | \n"
          ]
        }
      ]
    },
    {
      "cell_type": "code",
      "metadata": {
        "id": "Vl1fRsrJk0dT"
      },
      "source": [
        "!cat entrada.txt"
      ],
      "execution_count": 3,
      "outputs": []
    },
    {
      "cell_type": "code",
      "metadata": {
        "colab": {
          "base_uri": "https://localhost:8080/"
        },
        "id": "NqJW_rQ8n6eI",
        "outputId": "d34c7ef9-8524-4b61-e861-d6057fccf70b"
      },
      "source": [
        "entrada = open('entrada.txt', 'rt')\n",
        "codigo = entrada.read()\n",
        "#print(codigo)\n",
        "pilaControl = StackADT()\n",
        "pilaControl.push(\"#\") # caracter de pila vacia\n",
        "# recorrer desde el 1er elemento hasta el ultimo\n",
        "\n",
        "for letra in codigo:\n",
        "   #print(f\"---> {letra} <---\")\n",
        "    if letra == '{': # relga 1\n",
        "       pilaControl.push(\"{\") \n",
        "    elif letra == \"}\": # regla 2\n",
        "        basura = pilaControl.pop()\n",
        "    else:\n",
        "        pass\n",
        "\n",
        "for letra in codigo:\n",
        "    if letra == '(':\n",
        "        pilaControl.push(\"(\")\n",
        "    elif letra == ')':\n",
        "        basura = pilaControl.pop()\n",
        "    else:\n",
        "        pass\n",
        "\n",
        "# NOTA: Este codigo aun no contempla desbalanceo, desbalanceo de mas llaves de cierre\n",
        "if pilaControl.peek() == '#':\n",
        "    print(\"El codigo proporcionado esta correctamente balanceado en {} y ()\")\n",
        "else:\n",
        "    print(\"El codigo no esta balanceado en llaves { y } y/o ( )\")\n",
        "\n",
        "\n"
      ],
      "execution_count": 8,
      "outputs": [
        {
          "output_type": "stream",
          "name": "stdout",
          "text": [
            "El codigo proporcionado esta correctamente balanceado en {} y ()\n"
          ]
        }
      ]
    },
    {
      "cell_type": "markdown",
      "metadata": {
        "id": "CtqLMmo0FBvg"
      },
      "source": [
        "#CODIGO EN C++\n",
        "\n",
        "\n",
        "#include<iostream>\n",
        "using namespace std; \n",
        "\n",
        "int main() {\n",
        "\tint op = 0;\n",
        "\tfloat a=0, salario_total=0;\n",
        "\t \n",
        "\n",
        "\t\n",
        "\tcout << \"Digite los años totales que lleva el empleado trabajando para esta empresa:\\n\"; \n",
        "\tcin >> a;\n",
        "\t\t\n",
        "\tcout << \"Que puesto ocupa su empleado:\\n  1.Gerenete\\n 2.Cajero\\n 3.Ayudante\\n\\n \\nOpcion:\\n\";\n",
        "    cin >> op;\n",
        "\t\n",
        "\n",
        "\tswitch (op) {\n",
        "\n",
        "\t\tcase 1:\n",
        "\t\t\tcout << \" **** EL SUELDO QUE DEBERA PAGARLE A SU GERENTE ES \" << endl;\t\n",
        "\t\t\t \n",
        "\t\t\tif (a <= 3) {\n",
        "\t\t\t\tsalario_total = (6000 * a)+10000;\n",
        "\t\t\t}\n",
        "\t\t\telse if ((a>= 4) && (a < 11)) {\n",
        "\t\t\t\tsalario_total = ((a / 2) * (6000) + (9000))+10000;\n",
        "\t\t\t}\n",
        "\t\t\telse if ((a >= 11)) {\n",
        "\t\t\t\tsalario_total = ((a/ 3) * (9000) + (12000))+10000;\n",
        "\t\t\t}\n",
        "\n",
        "\t\t\telse {\n",
        "\t\t\t}\n",
        "\t\t\tbreak; \n",
        "\n",
        "\t\n",
        "\n",
        "\t\tcase 2:\n",
        "\t\t\tcout << \" ****EL SUELDO PARA EL CAJERO ES \" << endl;\n",
        "\n",
        "\t\t\t if (a <= 3) {\n",
        "\t\t\t\tsalario_total = (6000 * a) + 5000;\n",
        "\t\t\t}\n",
        "\t\t\telse if ((a >= 4) && (a < 11)) {\n",
        "\t\t\t\tsalario_total = ((a / 2) * (6000) + (9000)) + 5000;\n",
        "\t\t\t}\n",
        "\t\t\telse if ((a >= 11)) {\n",
        "\t\t\t\tsalario_total = ((a / 3) * (9000) + (12000)) + 5000;\n",
        "\t\t\t}\n",
        "\t\t\telse {\n",
        "\t\t\t}\n",
        "\t\t\t break;\n",
        "\n",
        "\n",
        "\t\tcase 3:\n",
        "\t\t\tcout << \" ****EL SUELDO PARA EL AYUDANTE ES \" << endl; \n",
        "\n",
        "\t\t\tif (a <= 3) {\n",
        "\t\t\t\tsalario_total = (6000 * a); \n",
        "\t\t\t}\n",
        "\t\t\telse if ((a >= 4) && (a< 11)) {\n",
        "\t\t\t\tsalario_total = (a / 2) * (6000) + (9000);\n",
        "\t\t\t}\n",
        "\t\t\telse if ((a >= 11)) {\n",
        "\t\t\t\tsalario_total = (a/ 3) * (9000) + (12000);\n",
        "\t\t\t}\n",
        "            else {\n",
        "\t\t\t}\n",
        "\t\t     break;\n",
        "\n",
        "\t\t}\n",
        "\t\n",
        "\t\tcout << \" DE ******\" <<salario_total << endl;\n",
        "\t\tcin >> salario_total;\n",
        "\n",
        "\t\n",
        "\t\t\t\n",
        "\t\n",
        "\n",
        "\t\treturn 0; \n",
        "\t}  \n",
        "\t\n"
      ]
    },
    {
      "cell_type": "markdown",
      "metadata": {
        "id": "_3qrh0SZpxYO"
      },
      "source": [
        "#aplicacion de pilas\n",
        "Estrategia de diseño de algoritmos BACKTRACKING\n"
      ]
    },
    {
      "cell_type": "code",
      "metadata": {
        "id": "uh0N8csVpv0J"
      },
      "source": [
        "\n",
        "\n",
        "\n",
        "\n",
        "\n",
        "\n",
        "\n",
        "\n",
        "\n",
        "\n",
        "\n",
        "\n"
      ],
      "execution_count": null,
      "outputs": []
    }
  ]
}