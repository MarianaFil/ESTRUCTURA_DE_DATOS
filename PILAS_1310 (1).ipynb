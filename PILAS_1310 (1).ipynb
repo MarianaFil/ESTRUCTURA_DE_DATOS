{
  "nbformat": 4,
  "nbformat_minor": 0,
  "metadata": {
    "colab": {
      "name": "PILAS_1310.ipynb",
      "provenance": []
    },
    "kernelspec": {
      "name": "python3",
      "display_name": "Python 3"
    },
    "language_info": {
      "name": "python"
    }
  },
  "cells": [
    {
      "cell_type": "markdown",
      "metadata": {
        "id": "VDULXI5zNIgU"
      },
      "source": [
        "stack -->constructor\n",
        "lenght --> \n",
        "is_empty\n",
        "\n",
        "-pop --> saca un elemento de la lista"
      ]
    },
    {
      "cell_type": "code",
      "metadata": {
        "id": "UqupmiL87JLq"
      },
      "source": [
        "class StackADT:\n",
        "  def __init__(self):\n",
        "    self.__data = list()\n",
        "\n",
        "\n",
        "#regresa true si la lista esta vacía\n",
        "  def is_empty (self):\n",
        "    return len ( self.__data ) == 0\n",
        "\n",
        "  def get_length ( self):\n",
        "    return len ( self.__data )\n",
        "\n",
        "  def pop (self ):\n",
        "    if self.is_empty():\n",
        "      print ( \"nada que sacar\" )\n",
        "    else:\n",
        "      return self.__data.pop()\n",
        "\n",
        "  def peek (self ):\n",
        "    if self.is_empty():\n",
        "      print ( \"pila vacia, nada que sacar\" )\n",
        "    else:\n",
        "      return self.__data [ -1 ]\n",
        "\n",
        "  def push ( self, valor ):\n",
        "    self.__data.append( valor )\n",
        "\n",
        "  def to_string ( self, ):\n",
        "    for item in self.__data [: : -1]:\n",
        "      print ( f\" | { item } | \" )"
      ],
      "execution_count": 1,
      "outputs": []
    },
    {
      "cell_type": "code",
      "metadata": {
        "colab": {
          "base_uri": "https://localhost:8080/"
        },
        "id": "svDXFncJNHZS",
        "outputId": "9095f5a7-75a1-422a-aa25-3b76fe8bfdcb"
      },
      "source": [
        "pila = StackADT()\n",
        "print(\"Esta vacia? =\" , pila.is_empty() )\n",
        "print(\"# elementos:\" , pila.get_length() )\n",
        "pila.push(10)\n",
        "print(\"Esta vacia? =\" , pila.is_empty() )\n",
        "print(\"# elementos:\" , pila.get_length() )\n",
        "pila.push (20)\n",
        "pila.push(30)\n",
        "pila.push(40)\n",
        "pila.to_string()\n",
        "print ( pila.pop() ) #40\n",
        "print(pila.peek())\n",
        "pila.to_string()\n",
        "\n",
        "\n"
      ],
      "execution_count": 2,
      "outputs": [
        {
          "output_type": "stream",
          "name": "stdout",
          "text": [
            "Esta vacia? = True\n",
            "# elementos: 0\n",
            "Esta vacia? = False\n",
            "# elementos: 1\n",
            " | 40 | \n",
            " | 30 | \n",
            " | 20 | \n",
            " | 10 | \n",
            "40\n",
            "30\n",
            " | 30 | \n",
            " | 20 | \n",
            " | 10 | \n"
          ]
        }
      ]
    },
    {
      "cell_type": "code",
      "metadata": {
        "id": "Vl1fRsrJk0dT"
      },
      "source": [
        "!cat entrada.txt"
      ],
      "execution_count": 3,
      "outputs": []
    },
    {
      "cell_type": "code",
      "metadata": {
        "colab": {
          "base_uri": "https://localhost:8080/"
        },
        "id": "NqJW_rQ8n6eI",
        "outputId": "d34c7ef9-8524-4b61-e861-d6057fccf70b"
      },
      "source": [
        "entrada = open('entrada.txt', 'rt')\n",
        "codigo = entrada.read()\n",
        "#print(codigo)\n",
        "pilaControl = StackADT()\n",
        "pilaControl.push(\"#\") # caracter de pila vacia\n",
        "# recorrer desde el 1er elemento hasta el ultimo\n",
        "\n",
        "for letra in codigo:\n",
        "   #print(f\"---> {letra} <---\")\n",
        "    if letra == '{': # relga 1\n",
        "       pilaControl.push(\"{\") \n",
        "    elif letra == \"}\": # regla 2\n",
        "        basura = pilaControl.pop()\n",
        "    else:\n",
        "        pass\n",
        "\n",
        "for letra in codigo:\n",
        "    if letra == '(':\n",
        "        pilaControl.push(\"(\")\n",
        "    elif letra == ')':\n",
        "        basura = pilaControl.pop()\n",
        "    else:\n",
        "        pass\n",
        "\n",
        "# NOTA: Este codigo aun no contempla desbalanceo, desbalanceo de mas llaves de cierre\n",
        "if pilaControl.peek() == '#':\n",
        "    print(\"El codigo proporcionado esta correctamente balanceado en {} y ()\")\n",
        "else:\n",
        "    print(\"El codigo no esta balanceado en llaves { y } y/o ( )\")\n",
        "\n",
        "\n"
      ],
      "execution_count": 8,
      "outputs": [
        {
          "output_type": "stream",
          "name": "stdout",
          "text": [
            "El codigo proporcionado esta correctamente balanceado en {} y ()\n"
          ]
        }
      ]
    },
    {
      "cell_type": "markdown",
      "metadata": {
        "id": "_3qrh0SZpxYO"
      },
      "source": [
        "#aplicacion de pilas\n",
        "Estrategia de diseño de algoritmos BACKTRACKING\n"
      ]
    },
    {
      "cell_type": "code",
      "metadata": {
        "id": "uh0N8csVpv0J"
      },
      "source": [
        "\n",
        "\n",
        "\n",
        "\n",
        "\n",
        "\n",
        "\n",
        "\n",
        "\n",
        "\n",
        "\n",
        "\n"
      ],
      "execution_count": null,
      "outputs": []
    }
  ]
}