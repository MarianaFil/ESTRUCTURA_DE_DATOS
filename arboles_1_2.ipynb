{
  "nbformat": 4,
  "nbformat_minor": 0,
  "metadata": {
    "colab": {
      "name": "arboles_1.2.ipynb",
      "provenance": []
    },
    "kernelspec": {
      "name": "python3",
      "display_name": "Python 3"
    },
    "language_info": {
      "name": "python"
    }
  },
  "cells": [
    {
      "cell_type": "markdown",
      "metadata": {
        "id": "ZLnHQ7v2Gm5Q"
      },
      "source": [
        ""
      ]
    },
    {
      "cell_type": "code",
      "metadata": {
        "id": "JRrDrB357Fj6"
      },
      "source": [
        "class NodoBinario:\n",
        "  def __init__(self , value , left = None , rigth=None):\n",
        "    self.data = value\n",
        "    self.left = left\n",
        "    self.rigth = rigth\n",
        "\n",
        "class NodoTernario:\n",
        "  def __init__(self , value , left = None , center = None , rigth = None):\n",
        "    self.data = value\n",
        "    self.left = left\n",
        "    self.center = center\n",
        "    self.rigth = rigth\n"
      ],
      "execution_count": 1,
      "outputs": []
    },
    {
      "cell_type": "code",
      "metadata": {
        "colab": {
          "base_uri": "https://localhost:8080/",
          "height": 130
        },
        "id": "wAXekYLuIStF",
        "outputId": "d70bf25a-00bf-4aab-9838-a57338d041ec"
      },
      "source": [
        "arbol1 = NodoBinario( \"R\", NodoBinario(\"c\"), NodoBinario(\"H\") )\n",
        "print(arbol1.rigth.data)\n",
        "\n",
        "arbol2 = NodoTernario(4, NodoTernario(3, \\\n",
        "         NodoTernario(5, left=NodoTernario(2)), None, NodoTernario(5))\n",
        "print(arbol2.left.rigth.data)\n",
        "print(arbol2.data)\n",
        "print(arbol2.left.center.data)\n",
        "prnit(arbol2.rigth.left)\n",
        "\n",
        "print(arbol2.rigth.left)\n",
        "print(arbol2.left.left.left.data)\n",
        "print(\"---imprimir el mismo sin usar la palabra left---\")\n",
        "ejemplo= arbol2.left.left.left.data\n",
        "print(ejemplo)\n",
        "print(\"--- otra forma..? ---\")\n",
        "aux= arbol2\n",
        "while( aux.left !=None):\n",
        "    aux = aux.left\n",
        "print(aux.data)"
      ],
      "execution_count": 2,
      "outputs": [
        {
          "output_type": "error",
          "ename": "SyntaxError",
          "evalue": "ignored",
          "traceback": [
            "\u001b[0;36m  File \u001b[0;32m\"<ipython-input-2-c7053e4b988d>\"\u001b[0;36m, line \u001b[0;32m5\u001b[0m\n\u001b[0;31m    print(arbol2.left.rigth.data)\u001b[0m\n\u001b[0m        ^\u001b[0m\n\u001b[0;31mSyntaxError\u001b[0m\u001b[0;31m:\u001b[0m invalid syntax\n"
          ]
        }
      ]
    },
    {
      "cell_type": "code",
      "metadata": {
        "colab": {
          "base_uri": "https://localhost:8080/"
        },
        "id": "bb1zB2w1YwrB",
        "outputId": "844eeff6-30c9-4dc4-f88a-611aaa4d8c10"
      },
      "source": [
        "root = NodoBinario(\"Santi\",None,NodoBinario(\"Jesus\",NodoBinario(\"Pedro\",None,NodoBinario(\" Pedro jr\"))))\n",
        "print(root.rigth.left.rigth.data)"
      ],
      "execution_count": 3,
      "outputs": [
        {
          "output_type": "stream",
          "name": "stdout",
          "text": [
            " Pedro jr\n"
          ]
        }
      ]
    }
  ]
}