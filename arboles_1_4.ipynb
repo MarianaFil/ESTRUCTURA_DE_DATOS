{
  "nbformat": 4,
  "nbformat_minor": 0,
  "metadata": {
    "colab": {
      "name": "arboles_1.4.ipynb",
      "provenance": []
    },
    "kernelspec": {
      "name": "python3",
      "display_name": "Python 3"
    },
    "language_info": {
      "name": "python"
    }
  },
  "cells": [
    {
      "cell_type": "markdown",
      "metadata": {
        "id": "ZLnHQ7v2Gm5Q"
      },
      "source": [
        ""
      ]
    },
    {
      "cell_type": "code",
      "metadata": {
        "id": "JRrDrB357Fj6"
      },
      "source": [
        "class NodoBinario:\n",
        "  def __init__(self , value , left = None , rigth=None):\n",
        "    self.data = value\n",
        "    self.left = left\n",
        "    self.rigth = rigth\n",
        "\n",
        "class NodoTernario:\n",
        "  def __init__(self , value , left = None , center = None , rigth = None):\n",
        "    self.data = value\n",
        "    self.left = left\n",
        "    self.center = center\n",
        "    self.rigth = rigth\n"
      ],
      "execution_count": null,
      "outputs": []
    },
    {
      "cell_type": "code",
      "metadata": {
        "colab": {
          "base_uri": "https://localhost:8080/",
          "height": 130
        },
        "id": "wAXekYLuIStF",
        "outputId": "d70bf25a-00bf-4aab-9838-a57338d041ec"
      },
      "source": [
        "arbol1 = NodoBinario( \"R\", NodoBinario(\"c\"), NodoBinario(\"H\") )\n",
        "print(arbol1.rigth.data)\n",
        "\n",
        "arbol2 = NodoTernario(4, NodoTernario(3, \\\n",
        "         NodoTernario(5, left=NodoTernario(2)), None, NodoTernario(5))\n",
        "print(arbol2.left.rigth.data)\n",
        "print(arbol2.data)\n",
        "print(arbol2.left.center.data)\n",
        "prnit(arbol2.rigth.left)\n",
        "\n",
        "print(arbol2.rigth.left)\n",
        "print(arbol2.left.left.left.data)\n",
        "print(\"---imprimir el mismo sin usar la palabra left---\")\n",
        "ejemplo= arbol2.left.left.left.data\n",
        "print(ejemplo)\n",
        "print(\"--- otra forma..? ---\")\n",
        "aux= arbol2\n",
        "while( aux.left !=None):\n",
        "    aux = aux.left\n",
        "print(aux.data)"
      ],
      "execution_count": null,
      "outputs": [
        {
          "output_type": "error",
          "ename": "SyntaxError",
          "evalue": "ignored",
          "traceback": [
            "\u001b[0;36m  File \u001b[0;32m\"<ipython-input-2-c7053e4b988d>\"\u001b[0;36m, line \u001b[0;32m5\u001b[0m\n\u001b[0;31m    print(arbol2.left.rigth.data)\u001b[0m\n\u001b[0m        ^\u001b[0m\n\u001b[0;31mSyntaxError\u001b[0m\u001b[0;31m:\u001b[0m invalid syntax\n"
          ]
        }
      ]
    },
    {
      "cell_type": "code",
      "metadata": {
        "colab": {
          "base_uri": "https://localhost:8080/"
        },
        "id": "bb1zB2w1YwrB",
        "outputId": "844eeff6-30c9-4dc4-f88a-611aaa4d8c10"
      },
      "source": [
        "root = NodoBinario(\"Santi\",None,NodoBinario(\"Jesus\",NodoBinario(\"Pedro\",None,NodoBinario(\" Pedro jr\"))))\n",
        "print(root.rigth.left.rigth.data)"
      ],
      "execution_count": null,
      "outputs": [
        {
          "output_type": "stream",
          "name": "stdout",
          "text": [
            " Pedro jr\n"
          ]
        }
      ]
    },
    {
      "cell_type": "code",
      "metadata": {
        "id": "90hE2AfT_rB4",
        "colab": {
          "base_uri": "https://localhost:8080/",
          "height": 130
        },
        "outputId": "be01c993-9716-4dc5-c5b7-74e9de449737"
      },
      "source": [
        "class BinaryNode:\n",
        "    def __init__(self, value, left= None, rigth= None):\n",
        "        self.data= value\n",
        "        self.left = left\n",
        "        self.rigth = rigth\n",
        "\n",
        "class BinarySearchTree:\n",
        "    def __init__( self):\n",
        "        self.root = None\n",
        "\n",
        "    def insert(self, value):\n",
        "        if self.root == None:\n",
        "            self.root = BinaryNode( value)\n",
        "        else:\n",
        "            self.__insert_nodo( self.root , value )\n",
        "\n",
        "    def __insert_nodo( self, nodo, value ):\n",
        "        if nodo.data == value:\n",
        "            pass\n",
        "        elif value < nodo.data:\n",
        "            if nodo.left == None:\n",
        "                nodo.left = BinaryNode( value )\n",
        "            else:\n",
        "                self.__insert_nodo( nodo.left, value )\n",
        "        else: # if a la derecha\n",
        "            if nodo.rigth == None:\n",
        "                    nodo.rigth = BinaryNode( value )\n",
        "            else:\n",
        "                self.__insert_nodo( nodo.rigth, value)\n",
        "\n",
        "\n",
        "    def transversal( self , formato= \"posorden\"):\n",
        "        if formato == \"posorden\":\n",
        "            self.recorrido_pos(self.root)\n",
        "        elif formato == \"preorden\":\n",
        "            self.recorrido_pre( self.root)\n",
        "        else: \n",
        "            self.recorrido_in(self.root)\n",
        "        print()\n",
        "                \n",
        "    def recorrido_pos(self, nodo):\n",
        "        if nodo != None:\n",
        "            self.recorrido_pos(nodo.left )\n",
        "            self.recorrido_pos(nodo.rigth )\n",
        "            print(str(nodo.data), end=\" , \")\n",
        "\n",
        "    def recorrido_pre(self, nodo):\n",
        "        if nodo != None:\n",
        "            print(str(nodo.data), end=\" , \")\n",
        "            self.recorrido_pre(nodo.left )\n",
        "            self.recorrido_pre(nodo.rigth )\n",
        "\n",
        "    def recorrido_in(self, nodo):\n",
        "        if nodo != None:\n",
        "            self.recorrido_in(nodo.left )\n",
        "            print(str(nodo.data), end=\" , \")\n",
        "            self.recorrido_in(nodo.rigth )\n",
        "        \n",
        "                \n",
        "    def search(self, value):\n",
        "        if root == None:\n",
        "            print(\"El arbol esta vacio, nada que buscar\")\n",
        "            return\n",
        "        else:\n",
        "            self.__search(self.root, value)\n",
        "    def __search(self, nodo, value):\n",
        "        if nodo.data == None:\n",
        "            print(\"el dato no exixte\")\n",
        "            return None\n",
        "        elif nodo.data == value:\n",
        "            print(\"encontrado\")\n",
        "            return nodo \n",
        "        elif value < nodo.data:\n",
        "            return self.__buscar( nodo.left, value )\n",
        "        else:\n",
        "            return self.__buscar(nodo.rigth, value )\n",
        "\n",
        "            #T A R E A 11\n",
        "\n",
        "\n",
        "    def remove( self, value):\n",
        "        if self.root == None:\n",
        "          print(\"no existen valores en el arbol\")\n",
        "          return None\n",
        "\n",
        "        else:\n",
        "          hallado= self.search_remove( self.root, value )\n",
        "        \n",
        "        if hallado.left == None and hallado rigth == None: \n",
        "          hallado.data = None \n",
        "        elif hallado.left == None or hallado.rigth == None:\n",
        "          if hallado.left != None:\n",
        "            guardado = int( hallado.left.data)\n",
        "            hallado.data = None\n",
        "            hallado = BinaryNode(guardado)\n",
        "          if hallado.rigth != None:\n",
        "            guardado = int(hallado.rigth.data)\n",
        "            hallado.data = None\n",
        "            hallado = BinaryNode(guardado)\n",
        "\n",
        "\n",
        "    def search_remove( self, nodo, value):\n",
        "          if nodo ==None:\n",
        "            return None\n",
        "          elif nodo.data == value:\n",
        "            return nodo\n",
        "          elif value < nodo.data:\n",
        "            return self.search_remove(nodo.left , value )\n",
        "          else:\n",
        "            return self.search_remove ( nodo.rigth , value)\n",
        "\n",
        "\n"
      ],
      "execution_count": 3,
      "outputs": [
        {
          "output_type": "error",
          "ename": "SyntaxError",
          "evalue": "ignored",
          "traceback": [
            "\u001b[0;36m  File \u001b[0;32m\"<ipython-input-3-a8924c218b5b>\"\u001b[0;36m, line \u001b[0;32m89\u001b[0m\n\u001b[0;31m    if hallado.left == None and hallado rigth == None:\u001b[0m\n\u001b[0m                                            ^\u001b[0m\n\u001b[0;31mSyntaxError\u001b[0m\u001b[0;31m:\u001b[0m invalid syntax\n"
          ]
        }
      ]
    },
    {
      "cell_type": "code",
      "metadata": {
        "colab": {
          "base_uri": "https://localhost:8080/"
        },
        "id": "eMZOO5D__0Gs",
        "outputId": "84d67786-a6b6-47a2-a0f8-9d5ba2d2fb69"
      },
      "source": [
        "arb1 = BinarySearchTree()\n",
        "arb1.insert(60)\n",
        "arb1.insert(30)\n",
        "arb1.insert(15)\n",
        "arb1.insert(40)\n",
        "#arb1.transversal()\n",
        "arb1.transversal(\"posorden\")\n",
        "arb1.transversal(\"preorden\")\n",
        "arb1.transversal(\"inorden\")"
      ],
      "execution_count": null,
      "outputs": [
        {
          "output_type": "stream",
          "name": "stdout",
          "text": [
            "15 , 40 , 30 , 60 , \n",
            "60 , 30 , 15 , 40 , \n",
            "15 , 30 , 40 , 60 , \n"
          ]
        }
      ]
    }
  ]
}