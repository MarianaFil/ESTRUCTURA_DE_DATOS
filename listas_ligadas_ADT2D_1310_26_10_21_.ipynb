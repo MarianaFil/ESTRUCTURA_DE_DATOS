{
  "nbformat": 4,
  "nbformat_minor": 0,
  "metadata": {
    "colab": {
      "name": "listas_ligadas_ADT2D_1310_26/10/21_.ipynb",
      "provenance": []
    },
    "kernelspec": {
      "name": "python3",
      "display_name": "Python 3"
    },
    "language_info": {
      "name": "python"
    }
  },
  "cells": [
    {
      "cell_type": "markdown",
      "metadata": {
        "id": "x2TE35yC9k5y"
      },
      "source": [
        "Ejercicios con la clase nodo\n",
        "-crear un nodo\n",
        "\n",
        "imprimir el valor del nodo\n",
        "\n",
        "-crear dos nodos\n",
        "\n",
        "imprimir valor del primero\n",
        "\n",
        "imprimir valor del 2do\n",
        "\n",
        "transaversal\n",
        "\n",
        "-lo mismo pero con 4 nodos\n",
        "\n",
        "imprimir el valor del primero\n",
        "\n",
        "imprimir valor del ultimo\n",
        "\n",
        "transversal\n",
        "\n",
        "insertar el nodo 25 despues del 20 y antes del 30"
      ]
    },
    {
      "cell_type": "code",
      "metadata": {
        "id": "WoRJn0HI6m0F"
      },
      "source": [
        "\n",
        "class Nodo:\n",
        "  def __init__(self, value, siguiente = None ):\n",
        "    self.data = value\n",
        "    self.next = siguiente"
      ],
      "execution_count": 1,
      "outputs": []
    },
    {
      "cell_type": "code",
      "metadata": {
        "colab": {
          "base_uri": "https://localhost:8080/"
        },
        "id": "LxGcHM8s7lux",
        "outputId": "13e284b7-80f1-48b8-df9a-9fbf1f9df355"
      },
      "source": [
        "\n",
        "head = Nodo(10)\n",
        "print(head.data)\n",
        "\n",
        "\n"
      ],
      "execution_count": 2,
      "outputs": [
        {
          "output_type": "stream",
          "name": "stdout",
          "text": [
            "10\n"
          ]
        }
      ]
    },
    {
      "cell_type": "code",
      "metadata": {
        "colab": {
          "base_uri": "https://localhost:8080/"
        },
        "id": "Pg0L-_CNCo1N",
        "outputId": "f1767cb4-1b1a-48be-8cd8-23fc6f99a1b2"
      },
      "source": [
        "head = Nodo(10)\n",
        "head.next = Nodo(20)\n",
        "print(f\"Primero = {head.data}\")\n",
        "print(f\"Segundo = {head.next.data}\")\n",
        "\n",
        "#lo mismo pero ahorrando codigo\n",
        "\n",
        "head = Nodo(10, Nodo(20))\n",
        "print(f\"Primero = {head.data}\")\n",
        "print(f\"Segundo = {head.next.data}\")\n",
        "\n",
        "#transversal\n",
        "curr_node = head\n",
        "while curr_node != None:\n",
        "  print(f\"|{curr_node.data}|-->\", end=\"\")\n",
        "  curr_node = curr_node.next\n",
        "\n",
        "#insertar el nodo 25 despues del 20 y antes del 30"
      ],
      "execution_count": 3,
      "outputs": [
        {
          "output_type": "stream",
          "name": "stdout",
          "text": [
            "Primero = 10\n",
            "Segundo = 20\n",
            "Primero = 10\n",
            "Segundo = 20\n",
            "|10|-->|20|-->"
          ]
        }
      ]
    },
    {
      "cell_type": "code",
      "metadata": {
        "colab": {
          "base_uri": "https://localhost:8080/"
        },
        "id": "-6dAgNiPCtJH",
        "outputId": "d7b82733-cd3e-422a-e1b2-4504350fc901"
      },
      "source": [
        "head = Nodo(10,Nodo(20, Nodo(30,Nodo(40))))\n",
        "#Nodo (valor, siguinte)\n",
        "#transversal\n",
        "curr_node = head\n",
        "while curr_node != None:\n",
        "  print(f\"|{curr_node.data}|-->\", end=\"\")\n",
        "  curr_node = curr_node.next\n",
        "print(\"\")\n",
        "# Imprimir el primero\n",
        "print(head.data)\n",
        "#imprimir el ultimo\n",
        "curr_node = head\n",
        "while curr_node.next != None:\n",
        "  curr_node = curr_node.next\n",
        "print(curr_node.data)\n",
        "\n",
        "curr_node = head\n",
        "while curr_node.data != 20:\n",
        "  curr_node = curr_node.next\n",
        "print(curr_node.data)"
      ],
      "execution_count": 4,
      "outputs": [
        {
          "output_type": "stream",
          "name": "stdout",
          "text": [
            "|10|-->|20|-->|30|-->|40|-->\n",
            "10\n",
            "40\n",
            "20\n"
          ]
        }
      ]
    },
    {
      "cell_type": "code",
      "metadata": {
        "colab": {
          "base_uri": "https://localhost:8080/"
        },
        "id": "g-QAhiEzcA65",
        "outputId": "94900b61-49e6-401f-e4b1-63f99f373240"
      },
      "source": [
        "a=10\n",
        "b=15\n",
        "c=a+b\n",
        "print(c)\n"
      ],
      "execution_count": 16,
      "outputs": [
        {
          "output_type": "stream",
          "name": "stdout",
          "text": [
            "25\n"
          ]
        }
      ]
    },
    {
      "cell_type": "code",
      "metadata": {
        "colab": {
          "base_uri": "https://localhost:8080/"
        },
        "id": "xJn4AoZ5uvEz",
        "outputId": "14ffb5af-bd10-4334-c6af-16df343fc1b9"
      },
      "source": [
        "#   Insertar el 25 entre 20 y 30\n",
        "curr_node = head\n",
        "while curr_node.data != 20:\n",
        "    curr_node = curr_node.next\n",
        "print(curr_node.data)\n",
        "\n",
        "#      Crear Nodo 25\n",
        "curr_node.next = Nodo(25, curr_node.next )\n",
        "print(\"Después de insertar a 25 \")\n",
        "#   Trasnversal\n",
        "curr_node = head\n",
        "while curr_node !=  None:\n",
        "    print(f\"| {curr_node.data } | ---> \" , end=\"\")\n",
        "    curr_node = curr_node.next\n",
        "print(\"\")"
      ],
      "execution_count": 22,
      "outputs": [
        {
          "output_type": "stream",
          "name": "stdout",
          "text": [
            "20\n",
            "Después de insertar a 25 \n",
            "| 10 | ---> | 20 | ---> | 25 | ---> | 30 | ---> | 40 | ---> \n"
          ]
        }
      ]
    },
    {
      "cell_type": "code",
      "metadata": {
        "id": "a_E_MTQec_hL"
      },
      "source": [
        "class Nodo:\n",
        "  def __init__(self,value,siguiente = None):\n",
        "    self.data= value\n",
        "    self.next= siguiente\n",
        "\n",
        "class LinkedList:\n",
        "  def __init__(self):\n",
        "    self.head = None\n",
        "\n",
        "  def is_empty (self):\n",
        "    return self.head == None\n",
        "\n",
        "  def get_tail(self):\n",
        "    if self.is_empty():\n",
        "      return None\n",
        "    else:\n",
        "      curr_node = self.head\n",
        "      while curr_node.next != None:\n",
        "        curr_node = curr_node.next\n",
        "      return curr_node\n",
        "\n",
        "  def append( self, value):\n",
        "    if self.head == None:\n",
        "        self.head = Nodo(value)\n",
        "    else:\n",
        "      curr_node = self.head\n",
        "      while curr_node.next != None:\n",
        "        curr_node = curr_node.next\n",
        "      curr_node.next = Nodo(value)\n",
        "\n",
        "  def transversal (self):\n",
        "    curr_node = self.head\n",
        "    while curr_node != None:\n",
        "      print(f\"| {curr_node.data} | -->\", end=\"\")\n",
        "      curr_node = curr_node.next\n",
        "    print (\"\")\n",
        "\n",
        "  def remove ( self , value):\n",
        "    if self.head == None:\n",
        "      print(\"Lista vacia, no se pudo remover nada\")\n",
        "    else:\n",
        "      curr_node = self.head\n",
        "      aux = None\n",
        "      while curr_node.data != value:\n",
        "        aux = curr_node\n",
        "        curr_node = curr_node.next\n",
        "        \n",
        "      if curr_node != None:\n",
        "        aux.next = curr_node.next\n",
        "        curr_node = None\n",
        "\n",
        "  def preppend ( self, value):\n",
        "    if self.head != None:\n",
        "      print(\"esta vacio\")\n",
        "    else:\n",
        "      aux = self.head\n",
        "      self.head = Nodo (value,aux)\n"
      ],
      "execution_count": 20,
      "outputs": []
    },
    {
      "cell_type": "code",
      "metadata": {
        "colab": {
          "base_uri": "https://localhost:8080/"
        },
        "id": "kOHhHvUWfgCu",
        "outputId": "cd40135b-e0ff-4d2a-913c-adcd96db094e"
      },
      "source": [
        "lista = LinkedList()\n",
        "\n",
        "if lista.is_empty:\n",
        "  print(\"La lista esta vacia\")\n",
        "else:\n",
        "  print(\"La lista no esta vacia\")\n",
        "\n",
        "lista.append(20)\n",
        "lista.append(110)\n",
        "lista.append(600)\n",
        "lista.append(10)\n",
        "nodo = lista.get_tail()\n",
        "if nodo != None:\n",
        "  print(nodo.data)\n",
        "else: \n",
        "  print(\"La lista esta vacia\")\n",
        "\n",
        "lista.transversal()\n",
        "lista.transversal()\n",
        "lista.preppend(6)\n",
        "lista.remove(10)\n"
      ],
      "execution_count": 21,
      "outputs": [
        {
          "output_type": "stream",
          "name": "stdout",
          "text": [
            "La lista esta vacia\n",
            "10\n",
            "| 20 | -->| 110 | -->| 600 | -->| 10 | -->\n",
            "| 20 | -->| 110 | -->| 600 | -->| 10 | -->\n",
            "esta vacio\n"
          ]
        }
      ]
    }
  ]
}